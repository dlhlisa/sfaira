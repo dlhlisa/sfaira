{
 "cells": [
  {
   "cell_type": "markdown",
   "metadata": {},
   "source": [
    "# Human Cell Landscape Preprocessing\n",
    "This jupyter notebook contains the code that is required to prepare the full Human Cell Landscape single cell dataset (Han et al., 2020. doi: 10.1038/s41586-020-2157-4) for use through sfaira dataloaders. The code downloads, annotates and cleans the provided adata pbject, saves it by sample and copies it into the right folders in your local sfaira dataset repository, so you can use it with sfaira dataloaders. The notebook saves all files in its working directory and requires you to provide the path to your local sfaira dataset repository in the last cell of this notebook."
   ]
  },
  {
   "cell_type": "code",
   "execution_count": 1,
   "metadata": {},
   "outputs": [
    {
     "name": "stderr",
     "output_type": "stream",
     "text": [
      "/opt/python/lib/python3.7/site-packages/anndata/_core/anndata.py:21: FutureWarning: pandas.core.index is deprecated and will be removed in a future version.  The public classes are available in the top-level namespace.\n",
      "  from pandas.core.index import RangeIndex\n"
     ]
    }
   ],
   "source": [
    "import pandas as pd\n",
    "import urllib.request\n",
    "import numpy as np\n",
    "import anndata as ad\n",
    "import scipy.sparse\n",
    "import os\n",
    "import zipfile\n",
    "from sfaira.versions.genome_versions.class_interface import SuperGenomeContainer"
   ]
  },
  {
   "cell_type": "code",
   "execution_count": 2,
   "metadata": {},
   "outputs": [
    {
     "name": "stdout",
     "output_type": "stream",
     "text": [
      "('HCL_Fig1_adata.h5ad', <http.client.HTTPMessage object at 0x7faa38db8e90>)\n",
      "('HCL_Fig1_cell_Info.xlsx', <http.client.HTTPMessage object at 0x7faa38dc5090>)\n",
      "('annotation_rmbatch_data_revised417.zip', <http.client.HTTPMessage object at 0x7faa38dc5390>)\n"
     ]
    }
   ],
   "source": [
    "# download required files from human cell landscape publication data: https://figshare.com/articles/HCL_DGE_Data/7235471\n",
    "print(urllib.request.urlretrieve('https://ndownloader.figshare.com/files/17727365', 'HCL_Fig1_adata.h5ad'))\n",
    "print(urllib.request.urlretrieve('https://ndownloader.figshare.com/files/21758835', 'HCL_Fig1_cell_Info.xlsx'))\n",
    "print(urllib.request.urlretrieve('https://ndownloader.figshare.com/files/22447898', 'annotation_rmbatch_data_revised417.zip'))"
   ]
  },
  {
   "cell_type": "code",
   "execution_count": 3,
   "metadata": {},
   "outputs": [],
   "source": [
    "# extract the downloaded zip archive\n",
    "with zipfile.ZipFile('annotation_rmbatch_data_revised417.zip', 'r') as zip_ref:\n",
    "    zip_ref.extractall('./')"
   ]
  },
  {
   "cell_type": "code",
   "execution_count": 4,
   "metadata": {},
   "outputs": [],
   "source": [
    "# load data file\n",
    "adata = ad.read('HCL_Fig1_adata.h5ad')"
   ]
  },
  {
   "cell_type": "code",
   "execution_count": 5,
   "metadata": {},
   "outputs": [
    {
     "data": {
      "text/plain": [
       "adrenalgland       43476\n",
       "stomach            41963\n",
       "kidney             40691\n",
       "blood              35533\n",
       "lung               33698\n",
       "brain              30493\n",
       "liver              28501\n",
       "pancreas           28473\n",
       "colon              22301\n",
       "pleura             19695\n",
       "spleen             15806\n",
       "malegonad          13211\n",
       "omentum            12812\n",
       "thyroid            12647\n",
       "esophagus          11364\n",
       "heart              10783\n",
       "trachea             9949\n",
       "chorionicvillus     9898\n",
       "gallbladder         9769\n",
       "artery              9652\n",
       "placenta            9595\n",
       "bladder             9048\n",
       "bone                8704\n",
       "cervix              8096\n",
       "muscle              7775\n",
       "uterus              7694\n",
       "skin                6991\n",
       "femalegonad         6941\n",
       "fallopiantube       6556\n",
       "rib                 5992\n",
       "spinalcord          5916\n",
       "rectum              5718\n",
       "jejunum             5549\n",
       "calvaria            5129\n",
       "duodenum            4681\n",
       "thymus              4516\n",
       "epityphlon          4486\n",
       "ileum               3367\n",
       "prostate            2445\n",
       "ureter              2390\n",
       "eye                 1880\n",
       "hesc                1660\n",
       "adipose             1372\n",
       "Name: organ, dtype: int64"
      ]
     },
     "execution_count": 5,
     "metadata": {},
     "output_type": "execute_result"
    }
   ],
   "source": [
    "# convert to sparse matrix\n",
    "adata.X = scipy.sparse.csr_matrix(adata.X).copy()\n",
    "\n",
    "# harmonise annotations\n",
    "for col in ['batch', 'tissue']:\n",
    "    adata.obs[col] = adata.obs[col].astype('str')\n",
    "adata.obs.index = adata.obs.index.str.replace('AdultJeJunum', 'AdultJejunum', regex=True).str.replace('AdultGallBladder', 'AdultGallbladder', regex=True).str.replace('FetalFemaleGonald', 'FetalFemaleGonad', regex=True)\n",
    "adata.obs.replace({'AdultJeJunum': 'AdultJejunum', 'AdultGallBladder': 'AdultGallbladder', 'FetalFemaleGonald': 'FetalFemaleGonad'}, regex=True, inplace=True)\n",
    "adata.obs.index = [\"-\".join(i.split('-')[:-1]) for i in adata.obs.index]\n",
    "\n",
    "# load celltype labels and harmonise them\n",
    "fig1_anno = pd.read_excel('HCL_Fig1_cell_Info.xlsx', index_col='cellnames')\n",
    "fig1_anno.index = fig1_anno.index.str.replace('AdultJeJunum', 'AdultJejunum', regex=True).str.replace('AdultGallBladder', 'AdultGallbladder', regex=True).str.replace('FetalFemaleGonald', 'FetalFemaleGonad', regex=True)\n",
    "\n",
    "# check that the order of cells and cell labels is the same\n",
    "assert np.all(fig1_anno.index == adata.obs.index)\n",
    "\n",
    "# add annotations to adata object and rename columns\n",
    "adata.obs = pd.concat([adata.obs, fig1_anno[['cluster', 'stage', 'donor', 'celltype']]], axis=1)\n",
    "adata.obs.columns = ['sample', 'tissue', 'n_genes', 'n_counts', 'cluster_global', 'stage', 'donor', 'celltype_global']\n",
    "\n",
    "# add sample-wise annotations to the full adata object\n",
    "df = pd.DataFrame(columns=['Cell_barcode', 'Sample', 'Batch', 'Cell_id', 'Cluster_id', 'Ages', 'Development_stage', 'Method', 'Gender', 'Source', 'Biomaterial', 'Name', 'ident', 'Celltype'])\n",
    "for f in os.listdir('annotation_rmbatch_data_revised417/'):\n",
    "    df1 = pd.read_csv('annotation_rmbatch_data_revised417/'+f, encoding='unicode_escape')\n",
    "    df = pd.concat([df, df1], sort=True)\n",
    "df = df.set_index('Cell_id')\n",
    "adata = adata[[i in df.index for i in adata.obs.index]].copy()\n",
    "a_idx = adata.obs.index.copy()\n",
    "adata.obs = pd.concat([adata.obs, df[['Ages', 'Celltype', 'Cluster_id', 'Gender', 'Method', 'Source']]], axis=1)\n",
    "assert np.all(a_idx == adata.obs.index)\n",
    "\n",
    "# remove mouse cells from the object\n",
    "adata = adata[adata.obs['Source'] != 'MCA2.0'].copy()\n",
    "\n",
    "# tidy up the column names of the obs annotations\n",
    "adata.obs.columns = ['sample', 'sub_tissue', 'n_genes', 'n_counts', 'cluster_global', 'dev_stage',\n",
    "       'donor', 'celltype_global', 'age', 'celltype_specific', 'cluster_specific', 'gender',\n",
    "       'protocol', 'source']\n",
    "\n",
    "# create some annotations that are used in sfaira\n",
    "adata.obs[\"healthy\"] = True\n",
    "adata.obs[\"state_exact\"] = 'healthy'\n",
    "adata.obs[\"cell_ontology_class\"] = adata.obs[\"celltype_global\"]\n",
    "adata.obs[\"cell_ontology_id\"] = None\n",
    "\n",
    "# convert gene ids to ensembl ids and store both\n",
    "gc = SuperGenomeContainer(species='human', genome='Homo_sapiens_GRCh38_97')\n",
    "id_dict = gc.names_to_id_dict\n",
    "adata.var = adata.var.reset_index().rename({'index': 'names'}, axis='columns')\n",
    "adata.var['ensembl'] = [id_dict[n] if n in id_dict.keys() else 'n/a' for n in adata.var['names']]\n",
    "adata.var.index = adata.var['ensembl'].values\n",
    "\n",
    "# create a tidy organ annotaion which is then used in sfaira\n",
    "adata.obs['organ']  = adata.obs['sub_tissue'] \\\n",
    "    .str.replace(\"Adult\", \"\") \\\n",
    "    .str.replace(\"Fetal\", \"\") \\\n",
    "    .str.replace(\"Neonatal\", \"\") \\\n",
    "    .str.replace(\"Transverse\", \"\") \\\n",
    "    .str.replace(\"Sigmoid\", \"\") \\\n",
    "    .str.replace(\"Ascending\", \"\") \\\n",
    "    .str.replace(\"Cord\", \"\") \\\n",
    "    .str.replace(\"Peripheral\", \"\") \\\n",
    "    .str.replace(\"CD34P\", \"\") \\\n",
    "    .str.replace(\"Cerebellum\", \"Brain\") \\\n",
    "    .str.replace(\"TemporalLobe\", \"Brain\") \\\n",
    "    .str.replace(\"BoneMarrow\", \"Bone\") \\\n",
    "    .str.replace(\"Spinal\", \"SpinalCord\") \\\n",
    "    .str.replace(\"Intestine\", \"Stomach\") \\\n",
    "    .str.replace(\"Eyes\", \"Eye\") \\\n",
    "    .str.lower()\n",
    "\n",
    "# print the number of cells per organ\n",
    "adata.obs['organ'].value_counts()"
   ]
  },
  {
   "cell_type": "code",
   "execution_count": 6,
   "metadata": {},
   "outputs": [
    {
     "name": "stderr",
     "output_type": "stream",
     "text": [
      "... storing 'sample' as categorical\n",
      "... storing 'sub_tissue' as categorical\n",
      "... storing 'dev_stage' as categorical\n",
      "... storing 'donor' as categorical\n",
      "... storing 'celltype_global' as categorical\n",
      "... storing 'age' as categorical\n",
      "... storing 'celltype_specific' as categorical\n",
      "... storing 'cluster_specific' as categorical\n",
      "... storing 'gender' as categorical\n",
      "... storing 'protocol' as categorical\n",
      "... storing 'source' as categorical\n",
      "... storing 'state_exact' as categorical\n",
      "... storing 'cell_ontology_class' as categorical\n",
      "... storing 'cell_ontology_id' as categorical\n",
      "... storing 'organ' as categorical\n",
      "... storing 'ensembl' as categorical\n"
     ]
    }
   ],
   "source": [
    "# write full adata object to disk\n",
    "adata.write('HCL_processed.h5ad')"
   ]
  },
  {
   "cell_type": "code",
   "execution_count": 7,
   "metadata": {
    "scrolled": true
   },
   "outputs": [
    {
     "name": "stderr",
     "output_type": "stream",
     "text": [
      "Variable names are not unique. To make them unique, call `.var_names_make_unique`.\n",
      "Variable names are not unique. To make them unique, call `.var_names_make_unique`.\n",
      "Variable names are not unique. To make them unique, call `.var_names_make_unique`.\n",
      "Variable names are not unique. To make them unique, call `.var_names_make_unique`.\n",
      "Variable names are not unique. To make them unique, call `.var_names_make_unique`.\n",
      "Variable names are not unique. To make them unique, call `.var_names_make_unique`.\n",
      "Variable names are not unique. To make them unique, call `.var_names_make_unique`.\n",
      "Variable names are not unique. To make them unique, call `.var_names_make_unique`.\n",
      "Variable names are not unique. To make them unique, call `.var_names_make_unique`.\n",
      "Variable names are not unique. To make them unique, call `.var_names_make_unique`.\n",
      "Variable names are not unique. To make them unique, call `.var_names_make_unique`.\n",
      "Variable names are not unique. To make them unique, call `.var_names_make_unique`.\n",
      "Variable names are not unique. To make them unique, call `.var_names_make_unique`.\n",
      "Variable names are not unique. To make them unique, call `.var_names_make_unique`.\n",
      "Variable names are not unique. To make them unique, call `.var_names_make_unique`.\n",
      "Variable names are not unique. To make them unique, call `.var_names_make_unique`.\n",
      "Variable names are not unique. To make them unique, call `.var_names_make_unique`.\n",
      "Variable names are not unique. To make them unique, call `.var_names_make_unique`.\n",
      "Variable names are not unique. To make them unique, call `.var_names_make_unique`.\n",
      "Variable names are not unique. To make them unique, call `.var_names_make_unique`.\n",
      "Variable names are not unique. To make them unique, call `.var_names_make_unique`.\n",
      "Variable names are not unique. To make them unique, call `.var_names_make_unique`.\n",
      "Variable names are not unique. To make them unique, call `.var_names_make_unique`.\n",
      "Variable names are not unique. To make them unique, call `.var_names_make_unique`.\n",
      "Variable names are not unique. To make them unique, call `.var_names_make_unique`.\n",
      "Variable names are not unique. To make them unique, call `.var_names_make_unique`.\n",
      "Variable names are not unique. To make them unique, call `.var_names_make_unique`.\n",
      "Variable names are not unique. To make them unique, call `.var_names_make_unique`.\n",
      "Variable names are not unique. To make them unique, call `.var_names_make_unique`.\n",
      "Variable names are not unique. To make them unique, call `.var_names_make_unique`.\n",
      "Variable names are not unique. To make them unique, call `.var_names_make_unique`.\n",
      "Variable names are not unique. To make them unique, call `.var_names_make_unique`.\n",
      "Variable names are not unique. To make them unique, call `.var_names_make_unique`.\n",
      "Variable names are not unique. To make them unique, call `.var_names_make_unique`.\n",
      "Variable names are not unique. To make them unique, call `.var_names_make_unique`.\n",
      "Variable names are not unique. To make them unique, call `.var_names_make_unique`.\n",
      "Variable names are not unique. To make them unique, call `.var_names_make_unique`.\n",
      "Variable names are not unique. To make them unique, call `.var_names_make_unique`.\n",
      "Variable names are not unique. To make them unique, call `.var_names_make_unique`.\n",
      "Variable names are not unique. To make them unique, call `.var_names_make_unique`.\n",
      "Variable names are not unique. To make them unique, call `.var_names_make_unique`.\n",
      "Variable names are not unique. To make them unique, call `.var_names_make_unique`.\n",
      "Variable names are not unique. To make them unique, call `.var_names_make_unique`.\n",
      "Variable names are not unique. To make them unique, call `.var_names_make_unique`.\n",
      "Variable names are not unique. To make them unique, call `.var_names_make_unique`.\n",
      "Variable names are not unique. To make them unique, call `.var_names_make_unique`.\n",
      "Variable names are not unique. To make them unique, call `.var_names_make_unique`.\n",
      "Variable names are not unique. To make them unique, call `.var_names_make_unique`.\n",
      "Variable names are not unique. To make them unique, call `.var_names_make_unique`.\n",
      "Variable names are not unique. To make them unique, call `.var_names_make_unique`.\n",
      "Variable names are not unique. To make them unique, call `.var_names_make_unique`.\n",
      "Variable names are not unique. To make them unique, call `.var_names_make_unique`.\n",
      "Variable names are not unique. To make them unique, call `.var_names_make_unique`.\n",
      "Variable names are not unique. To make them unique, call `.var_names_make_unique`.\n",
      "Variable names are not unique. To make them unique, call `.var_names_make_unique`.\n",
      "Variable names are not unique. To make them unique, call `.var_names_make_unique`.\n",
      "Variable names are not unique. To make them unique, call `.var_names_make_unique`.\n",
      "Variable names are not unique. To make them unique, call `.var_names_make_unique`.\n",
      "Variable names are not unique. To make them unique, call `.var_names_make_unique`.\n",
      "Variable names are not unique. To make them unique, call `.var_names_make_unique`.\n",
      "Variable names are not unique. To make them unique, call `.var_names_make_unique`.\n",
      "Variable names are not unique. To make them unique, call `.var_names_make_unique`.\n",
      "Variable names are not unique. To make them unique, call `.var_names_make_unique`.\n",
      "Variable names are not unique. To make them unique, call `.var_names_make_unique`.\n",
      "Variable names are not unique. To make them unique, call `.var_names_make_unique`.\n",
      "Variable names are not unique. To make them unique, call `.var_names_make_unique`.\n",
      "Variable names are not unique. To make them unique, call `.var_names_make_unique`.\n",
      "Variable names are not unique. To make them unique, call `.var_names_make_unique`.\n",
      "Variable names are not unique. To make them unique, call `.var_names_make_unique`.\n",
      "Variable names are not unique. To make them unique, call `.var_names_make_unique`.\n",
      "Variable names are not unique. To make them unique, call `.var_names_make_unique`.\n",
      "Variable names are not unique. To make them unique, call `.var_names_make_unique`.\n",
      "Variable names are not unique. To make them unique, call `.var_names_make_unique`.\n",
      "Variable names are not unique. To make them unique, call `.var_names_make_unique`.\n",
      "Variable names are not unique. To make them unique, call `.var_names_make_unique`.\n",
      "Variable names are not unique. To make them unique, call `.var_names_make_unique`.\n",
      "Variable names are not unique. To make them unique, call `.var_names_make_unique`.\n",
      "Variable names are not unique. To make them unique, call `.var_names_make_unique`.\n",
      "Variable names are not unique. To make them unique, call `.var_names_make_unique`.\n",
      "Variable names are not unique. To make them unique, call `.var_names_make_unique`.\n",
      "Variable names are not unique. To make them unique, call `.var_names_make_unique`.\n",
      "Variable names are not unique. To make them unique, call `.var_names_make_unique`.\n",
      "Variable names are not unique. To make them unique, call `.var_names_make_unique`.\n",
      "Variable names are not unique. To make them unique, call `.var_names_make_unique`.\n",
      "Variable names are not unique. To make them unique, call `.var_names_make_unique`.\n",
      "Variable names are not unique. To make them unique, call `.var_names_make_unique`.\n",
      "Variable names are not unique. To make them unique, call `.var_names_make_unique`.\n",
      "Variable names are not unique. To make them unique, call `.var_names_make_unique`.\n",
      "Variable names are not unique. To make them unique, call `.var_names_make_unique`.\n",
      "Variable names are not unique. To make them unique, call `.var_names_make_unique`.\n",
      "Variable names are not unique. To make them unique, call `.var_names_make_unique`.\n",
      "Variable names are not unique. To make them unique, call `.var_names_make_unique`.\n",
      "Variable names are not unique. To make them unique, call `.var_names_make_unique`.\n",
      "Variable names are not unique. To make them unique, call `.var_names_make_unique`.\n",
      "Variable names are not unique. To make them unique, call `.var_names_make_unique`.\n",
      "Variable names are not unique. To make them unique, call `.var_names_make_unique`.\n",
      "Variable names are not unique. To make them unique, call `.var_names_make_unique`.\n",
      "Variable names are not unique. To make them unique, call `.var_names_make_unique`.\n",
      "Variable names are not unique. To make them unique, call `.var_names_make_unique`.\n",
      "Variable names are not unique. To make them unique, call `.var_names_make_unique`.\n",
      "Variable names are not unique. To make them unique, call `.var_names_make_unique`.\n",
      "Variable names are not unique. To make them unique, call `.var_names_make_unique`.\n"
     ]
    }
   ],
   "source": [
    "# write separate files per sample as used in sfaira\n",
    "os.mkdir('hcl_organs/')\n",
    "for i in adata.obs['sample'].unique():\n",
    "    a = adata[adata.obs['sample'] == i].copy()\n",
    "    a.write('hcl_organs/hcl_{}.h5ad'.format(i))"
   ]
  },
  {
   "cell_type": "code",
   "execution_count": 8,
   "metadata": {},
   "outputs": [],
   "source": [
    "# copy the seperate h5ad files into your sfaira data repository\n",
    "your_datarepository = '/path/to/repository' # path to the folder that contains the 'human' and 'mouse' directories\n",
    "for samplefile in os.listdir('hcl_organs/'):\n",
    "    if samplefile.startswith('hcl_'):\n",
    "        a = ad.read('hcl_organs/'+samplefile)\n",
    "        organ = a.obs['organ'][0]\n",
    "        if organ not in os.listdir(f\"{your_datarepository}/human\"):\n",
    "            os.mkdir(f\"{your_datarepository}/human/{organ}\")\n",
    "        a.write(f'{your_datarepository}/human/{organ}/{samplefile}')"
   ]
  }
 ],
 "metadata": {
  "kernelspec": {
   "display_name": "Python 3",
   "language": "python",
   "name": "python3"
  },
  "language_info": {
   "codemirror_mode": {
    "name": "ipython",
    "version": 3
   },
   "file_extension": ".py",
   "mimetype": "text/x-python",
   "name": "python",
   "nbconvert_exporter": "python",
   "pygments_lexer": "ipython3",
   "version": "3.7.7"
  }
 },
 "nbformat": 4,
 "nbformat_minor": 4
}
